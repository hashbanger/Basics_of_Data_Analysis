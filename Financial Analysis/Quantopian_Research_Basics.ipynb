{
 "cells": [
  {
   "cell_type": "markdown",
   "metadata": {},
   "source": [
    "# Quantopian Research Basics\n",
    "\n",
    "**This notebook will only work on Quantopian. Commands and functions other than on the Quantopian trading platform!**\n",
    "\n",
    "\n",
    "## Research\n",
    "\n",
    "The notebook format allows us to easily gather information about variuos securities all within the Quantopian platform. Keep in mind this is different than the base coding platform of quantopian, which focuses on actually implementing and backtesting trading strategies."
   ]
  },
  {
   "cell_type": "code",
   "execution_count": 21,
   "metadata": {
    "collapsed": true
   },
   "outputs": [],
   "source": [
    "import numpy as np\n",
    "import pandas as pd\n",
    "import matplotlib.pyplot as plt"
   ]
  },
  {
   "cell_type": "markdown",
   "metadata": {
    "collapsed": true
   },
   "source": [
    "## Getting Information\n",
    "\n",
    "Let's go over a few key functions:\n",
    "\n",
    "* get_pricing()\n",
    "* symbols()\n",
    "* local_csv()\n",
    "* get_backtest()\n",
    "* get_fundamentals()"
   ]
  },
  {
   "cell_type": "markdown",
   "metadata": {},
   "source": [
    "## get_pricing()\n",
    "\n",
    "The `get_pricing` function provides access to 12 years of US Equity pricing data: the same data used by the Quantopian backtester.\n",
    "\n",
    "`get_pricing` returns a <b>pandas object</b>. This could be a panel, dataframe or series depending on the input values. "
   ]
  },
  {
   "cell_type": "code",
   "execution_count": 17,
   "metadata": {},
   "outputs": [],
   "source": [
    "mcdon = get_pricing('MCD',\n",
    "                    start_date='2017-01-01', \n",
    "                    end_date = '2017-02-01', \n",
    "                    frequency='minute')"
   ]
  },
  {
   "cell_type": "code",
   "execution_count": 18,
   "metadata": {},
   "outputs": [
    {
     "data": {
      "text/html": [
       "<div>\n",
       "<table border=\"1\" class=\"dataframe\">\n",
       "  <thead>\n",
       "    <tr style=\"text-align: right;\">\n",
       "      <th></th>\n",
       "      <th>open_price</th>\n",
       "      <th>high</th>\n",
       "      <th>low</th>\n",
       "      <th>close_price</th>\n",
       "      <th>volume</th>\n",
       "      <th>price</th>\n",
       "    </tr>\n",
       "  </thead>\n",
       "  <tbody>\n",
       "    <tr>\n",
       "      <th>2017-01-03 14:31:00+00:00</th>\n",
       "      <td>121.86</td>\n",
       "      <td>121.86</td>\n",
       "      <td>121.57</td>\n",
       "      <td>121.63</td>\n",
       "      <td>123665.0</td>\n",
       "      <td>121.63</td>\n",
       "    </tr>\n",
       "    <tr>\n",
       "      <th>2017-01-03 14:32:00+00:00</th>\n",
       "      <td>121.73</td>\n",
       "      <td>121.92</td>\n",
       "      <td>121.41</td>\n",
       "      <td>121.45</td>\n",
       "      <td>13536.0</td>\n",
       "      <td>121.45</td>\n",
       "    </tr>\n",
       "    <tr>\n",
       "      <th>2017-01-03 14:33:00+00:00</th>\n",
       "      <td>121.45</td>\n",
       "      <td>121.79</td>\n",
       "      <td>121.45</td>\n",
       "      <td>121.52</td>\n",
       "      <td>17562.0</td>\n",
       "      <td>121.52</td>\n",
       "    </tr>\n",
       "    <tr>\n",
       "      <th>2017-01-03 14:34:00+00:00</th>\n",
       "      <td>121.45</td>\n",
       "      <td>121.80</td>\n",
       "      <td>121.44</td>\n",
       "      <td>121.75</td>\n",
       "      <td>12072.0</td>\n",
       "      <td>121.75</td>\n",
       "    </tr>\n",
       "    <tr>\n",
       "      <th>2017-01-03 14:35:00+00:00</th>\n",
       "      <td>121.74</td>\n",
       "      <td>122.00</td>\n",
       "      <td>121.66</td>\n",
       "      <td>121.99</td>\n",
       "      <td>8100.0</td>\n",
       "      <td>121.99</td>\n",
       "    </tr>\n",
       "  </tbody>\n",
       "</table>\n",
       "</div>"
      ],
      "text/plain": [
       "                           open_price    high     low  close_price    volume  \\\n",
       "2017-01-03 14:31:00+00:00      121.86  121.86  121.57       121.63  123665.0   \n",
       "2017-01-03 14:32:00+00:00      121.73  121.92  121.41       121.45   13536.0   \n",
       "2017-01-03 14:33:00+00:00      121.45  121.79  121.45       121.52   17562.0   \n",
       "2017-01-03 14:34:00+00:00      121.45  121.80  121.44       121.75   12072.0   \n",
       "2017-01-03 14:35:00+00:00      121.74  122.00  121.66       121.99    8100.0   \n",
       "\n",
       "                            price  \n",
       "2017-01-03 14:31:00+00:00  121.63  \n",
       "2017-01-03 14:32:00+00:00  121.45  \n",
       "2017-01-03 14:33:00+00:00  121.52  \n",
       "2017-01-03 14:34:00+00:00  121.75  \n",
       "2017-01-03 14:35:00+00:00  121.99  "
      ]
     },
     "execution_count": 18,
     "metadata": {},
     "output_type": "execute_result"
    }
   ],
   "source": [
    "mcdon.head()"
   ]
  },
  {
   "cell_type": "code",
   "execution_count": 19,
   "metadata": {},
   "outputs": [
    {
     "name": "stdout",
     "output_type": "stream",
     "text": [
      "<class 'pandas.core.frame.DataFrame'>\n",
      "DatetimeIndex: 8190 entries, 2017-01-03 14:31:00+00:00 to 2017-02-01 21:00:00+00:00\n",
      "Data columns (total 6 columns):\n",
      "open_price     8188 non-null float64\n",
      "high           8188 non-null float64\n",
      "low            8188 non-null float64\n",
      "close_price    8188 non-null float64\n",
      "volume         8190 non-null float64\n",
      "price          8190 non-null float64\n",
      "dtypes: float64(6)\n",
      "memory usage: 447.9 KB\n"
     ]
    }
   ],
   "source": [
    "mcdon.info()"
   ]
  },
  {
   "cell_type": "code",
   "execution_count": 33,
   "metadata": {},
   "outputs": [],
   "source": [
    "# Can only go about 12 years back\n",
    "# which is really all you need for algo trading, \n",
    "# going back further probably is more noise than signal.\n",
    "\n",
    "mcdon = get_pricing('MCD',\n",
    "                    start_date='2005-01-01', \n",
    "                    end_date = '2017-01-01', \n",
    "                    frequency='daily')"
   ]
  },
  {
   "cell_type": "code",
   "execution_count": 34,
   "metadata": {},
   "outputs": [
    {
     "data": {
      "text/plain": [
       "<matplotlib.axes._subplots.AxesSubplot at 0x7f98b62cdc90>"
      ]
     },
     "execution_count": 34,
     "metadata": {},
     "output_type": "execute_result"
    },
    {
     "data": {
      "image/png": "[encoded data removed]",
      "text/plain": [
       "<matplotlib.figure.Figure at 0x7f98c634d790>"
      ]
     },
     "metadata": {},
     "output_type": "display_data"
    }
   ],
   "source": [
    "mcdon['close_price'].plot()"
   ]
  },
  {
   "cell_type": "code",
   "execution_count": 35,
   "metadata": {},
   "outputs": [
    {
     "data": {
      "text/plain": [
       "<matplotlib.axes._subplots.AxesSubplot at 0x7f98c85a6a10>"
      ]
     },
     "execution_count": 35,
     "metadata": {},
     "output_type": "execute_result"
    },
    {
     "data": {
      "image/png": "[encoded data removed]",
      "text/plain": [
       "<matplotlib.figure.Figure at 0x7f98b6d440d0>"
      ]
     },
     "metadata": {},
     "output_type": "display_data"
    }
   ],
   "source": [
    "mcdon['close_price'].pct_change(1).hist(bins=100,figsize=(6,4))"
   ]
  },
  {
   "cell_type": "markdown",
   "metadata": {},
   "source": [
    "## symbols()\n",
    "\n",
    "By default `symbols` returns the security object for a ticker symbol. Specify a ticker symbol, or list of symbols, as a string and get a list of security objects back. \n",
    "\n",
    "- Use `symbol_reference_date` to identify which date you want the symbol back for a particular ticker symbol. \n",
    "- Specify how you would like missing results to be handled with `handle_missing`\n",
    "\n"
   ]
  },
  {
   "cell_type": "code",
   "execution_count": 39,
   "metadata": {},
   "outputs": [],
   "source": [
    "mcdon_eq_info = symbols('MCD')"
   ]
  },
  {
   "cell_type": "code",
   "execution_count": 41,
   "metadata": {},
   "outputs": [
    {
     "data": {
      "text/plain": [
       "<type 'zipline.assets._assets.Equity'>"
      ]
     },
     "execution_count": 41,
     "metadata": {},
     "output_type": "execute_result"
    }
   ],
   "source": [
    "type(mcdon_eq_info)"
   ]
  },
  {
   "cell_type": "code",
   "execution_count": 48,
   "metadata": {},
   "outputs": [
    {
     "name": "stdout",
     "output_type": "stream",
     "text": [
      "end_date\n",
      "2017-07-19 00:00:00+00:00\n",
      "\n",
      "\n",
      "exchange\n",
      "NYSE\n",
      "\n",
      "\n",
      "auto_close_date\n",
      "2017-07-24 00:00:00+00:00\n",
      "\n",
      "\n",
      "symbol\n",
      "MCD\n",
      "\n",
      "\n",
      "first_traded\n",
      "None\n",
      "\n",
      "\n",
      "asset_name\n",
      "MCDONALDS CORP\n",
      "\n",
      "\n",
      "exchange_full\n",
      "NEW YORK STOCK EXCHANGE\n",
      "\n",
      "\n",
      "sid\n",
      "4707\n",
      "\n",
      "\n",
      "start_date\n",
      "2002-01-01 00:00:00+00:00\n",
      "\n",
      "\n"
     ]
    }
   ],
   "source": [
    "for key in mcdon_eq_info.to_dict():\n",
    "    print(key)\n",
    "    print(mcdon_eq_info.to_dict()[key])\n",
    "    print('\\n')"
   ]
  },
  {
   "cell_type": "markdown",
   "metadata": {},
   "source": [
    "## get_fundamentals()\n",
    "\n",
    "The `get_fundamentals` function provides programmatic access to the Quantopian fundamental database. Based on data provided by Morningstar, `get_fundamentals` provides over 600 corporate metrics dating back to 2002 (to match Quantopian's pricing data). \n",
    "\n",
    "The data used by this research function is the same data used by the `get_fundamentals` function used in the Quantopian IDE. The fields are described in the Quantopian help documents: http://www.quantopian.com/help/fundamentals.\n"
   ]
  },
  {
   "cell_type": "code",
   "execution_count": 49,
   "metadata": {
    "collapsed": true
   },
   "outputs": [],
   "source": [
    "# Have to do this first in the notebook:\n",
    "fundamentals = init_fundamentals()"
   ]
  },
  {
   "cell_type": "markdown",
   "metadata": {},
   "source": [
    "The get_fundamentals() function takes in a SQLAlchemy query which can be quite complicated and strange looking at first. Basically it allows you to filter by a variety of fundamentals (things like Market Cap, P/E Ratio, or even city of HQ)."
   ]
  },
  {
   "cell_type": "code",
   "execution_count": 57,
   "metadata": {},
   "outputs": [],
   "source": [
    "# Market Cap\n",
    "my_query = query(fundamentals.valuation.market_cap)"
   ]
  },
  {
   "cell_type": "code",
   "execution_count": 59,
   "metadata": {},
   "outputs": [],
   "source": [
    "my_funds = get_fundamentals(my_query,'2017-01-01')"
   ]
  },
  {
   "cell_type": "code",
   "execution_count": 62,
   "metadata": {},
   "outputs": [
    {
     "name": "stdout",
     "output_type": "stream",
     "text": [
      "<class 'pandas.core.frame.DataFrame'>\n",
      "Index: 1 entries, market_cap to market_cap\n",
      "Columns: 5551 entries, Equity(21 [AAME]) to Equity(50554 [HEBT])\n",
      "dtypes: float64(5551)\n",
      "memory usage: 43.4+ KB\n"
     ]
    }
   ],
   "source": [
    "my_funds.info()"
   ]
  },
  {
   "cell_type": "code",
   "execution_count": 64,
   "metadata": {},
   "outputs": [
    {
     "data": {
      "text/html": [
       "<div>\n",
       "<table border=\"1\" class=\"dataframe\">\n",
       "  <thead>\n",
       "    <tr style=\"text-align: right;\">\n",
       "      <th></th>\n",
       "      <th>Equity(21 [AAME])</th>\n",
       "      <th>Equity(24 [AAPL])</th>\n",
       "      <th>Equity(25 [ARNC_PR])</th>\n",
       "      <th>Equity(31 [ABAX])</th>\n",
       "      <th>Equity(39 [DDC])</th>\n",
       "      <th>Equity(41 [ARCB])</th>\n",
       "      <th>Equity(52 [ABM])</th>\n",
       "      <th>Equity(53 [ABMD])</th>\n",
       "      <th>Equity(62 [ABT])</th>\n",
       "      <th>Equity(64 [ABX])</th>\n",
       "      <th>...</th>\n",
       "      <th>Equity(50533 [CNDT])</th>\n",
       "      <th>Equity(50534 [HGV])</th>\n",
       "      <th>Equity(50535 [PK])</th>\n",
       "      <th>Equity(50537 [WRD])</th>\n",
       "      <th>Equity(50539 [TIG])</th>\n",
       "      <th>Equity(50540 [TRVG])</th>\n",
       "      <th>Equity(50541 [KEY_PRI])</th>\n",
       "      <th>Equity(50544 [KEG])</th>\n",
       "      <th>Equity(50547 [YTRA])</th>\n",
       "      <th>Equity(50554 [HEBT])</th>\n",
       "    </tr>\n",
       "  </thead>\n",
       "  <tbody>\n",
       "    <tr>\n",
       "      <th>market_cap</th>\n",
       "      <td>80256300.0</td>\n",
       "      <td>6.224410e+11</td>\n",
       "      <td>NaN</td>\n",
       "      <td>1.190750e+09</td>\n",
       "      <td>808964000.0</td>\n",
       "      <td>722555000.0</td>\n",
       "      <td>2.265560e+09</td>\n",
       "      <td>4.927210e+09</td>\n",
       "      <td>5.640420e+10</td>\n",
       "      <td>1.910140e+10</td>\n",
       "      <td>...</td>\n",
       "      <td>3.029760e+09</td>\n",
       "      <td>2.559150e+09</td>\n",
       "      <td>5.890500e+09</td>\n",
       "      <td>1.734880e+09</td>\n",
       "      <td>2.265930e+09</td>\n",
       "      <td>2.741480e+09</td>\n",
       "      <td>NaN</td>\n",
       "      <td>26639500.0</td>\n",
       "      <td>329764000.0</td>\n",
       "      <td>91800000.0</td>\n",
       "    </tr>\n",
       "  </tbody>\n",
       "</table>\n",
       "<p>1 rows × 5551 columns</p>\n",
       "</div>"
      ],
      "text/plain": [
       "            Equity(21 [AAME])  Equity(24 [AAPL])  Equity(25 [ARNC_PR])  \\\n",
       "market_cap         80256300.0       6.224410e+11                   NaN   \n",
       "\n",
       "            Equity(31 [ABAX])  Equity(39 [DDC])  Equity(41 [ARCB])  \\\n",
       "market_cap       1.190750e+09       808964000.0        722555000.0   \n",
       "\n",
       "            Equity(52 [ABM])  Equity(53 [ABMD])  Equity(62 [ABT])  \\\n",
       "market_cap      2.265560e+09       4.927210e+09      5.640420e+10   \n",
       "\n",
       "            Equity(64 [ABX])          ...           Equity(50533 [CNDT])  \\\n",
       "market_cap      1.910140e+10          ...                   3.029760e+09   \n",
       "\n",
       "            Equity(50534 [HGV])  Equity(50535 [PK])  Equity(50537 [WRD])  \\\n",
       "market_cap         2.559150e+09        5.890500e+09         1.734880e+09   \n",
       "\n",
       "            Equity(50539 [TIG])  Equity(50540 [TRVG])  \\\n",
       "market_cap         2.265930e+09          2.741480e+09   \n",
       "\n",
       "            Equity(50541 [KEY_PRI])  Equity(50544 [KEG])  \\\n",
       "market_cap                      NaN           26639500.0   \n",
       "\n",
       "            Equity(50547 [YTRA])  Equity(50554 [HEBT])  \n",
       "market_cap           329764000.0            91800000.0  \n",
       "\n",
       "[1 rows x 5551 columns]"
      ]
     },
     "execution_count": 64,
     "metadata": {},
     "output_type": "execute_result"
    }
   ],
   "source": [
    "# Basically just returns the market cap of everything\n",
    "# for 2017-01-01\n",
    "my_funds.head()"
   ]
  },
  {
   "cell_type": "code",
   "execution_count": 74,
   "metadata": {},
   "outputs": [],
   "source": [
    "# What we usually do is filter by other qualities after the query!\n",
    "\n",
    "# Only get companies worth 500 billion or more (that's a lot of dough!)\n",
    "big_companies = (query(fundamentals.valuation.market_cap).\n",
    "                 filter(fundamentals.valuation.market_cap > 500000000000) )"
   ]
  },
  {
   "cell_type": "code",
   "execution_count": 75,
   "metadata": {
    "collapsed": true
   },
   "outputs": [],
   "source": [
    "my_big_funds = get_fundamentals(big_companies,'2017-07-19')"
   ]
  },
  {
   "cell_type": "code",
   "execution_count": 76,
   "metadata": {},
   "outputs": [
    {
     "data": {
      "text/html": [
       "<div>\n",
       "<table border=\"1\" class=\"dataframe\">\n",
       "  <thead>\n",
       "    <tr style=\"text-align: right;\">\n",
       "      <th></th>\n",
       "      <th>Equity(24 [AAPL])</th>\n",
       "      <th>Equity(5061 [MSFT])</th>\n",
       "      <th>Equity(26578 [GOOG_L])</th>\n",
       "      <th>Equity(46631 [GOOG])</th>\n",
       "    </tr>\n",
       "  </thead>\n",
       "  <tbody>\n",
       "    <tr>\n",
       "      <th>market_cap</th>\n",
       "      <td>7.824930e+11</td>\n",
       "      <td>5.659140e+11</td>\n",
       "      <td>6.752440e+11</td>\n",
       "      <td>6.752440e+11</td>\n",
       "    </tr>\n",
       "  </tbody>\n",
       "</table>\n",
       "</div>"
      ],
      "text/plain": [
       "            Equity(24 [AAPL])  Equity(5061 [MSFT])  Equity(26578 [GOOG_L])  \\\n",
       "market_cap       7.824930e+11         5.659140e+11            6.752440e+11   \n",
       "\n",
       "            Equity(46631 [GOOG])  \n",
       "market_cap          6.752440e+11  "
      ]
     },
     "execution_count": 76,
     "metadata": {},
     "output_type": "execute_result"
    }
   ],
   "source": [
    "# On \n",
    "my_big_funds"
   ]
  },
  {
   "cell_type": "code",
   "execution_count": 70,
   "metadata": {},
   "outputs": [
    {
     "data": {
      "text/plain": [
       "782000000000.0"
      ]
     },
     "execution_count": 70,
     "metadata": {},
     "output_type": "execute_result"
    }
   ],
   "source": [
    "7.82 * 10**11"
   ]
  },
  {
   "cell_type": "code",
   "execution_count": 50,
   "metadata": {},
   "outputs": [
    {
     "ename": "TypeError",
     "evalue": "get_fundamentals() takes at least 2 arguments (0 given)",
     "output_type": "error",
     "traceback": [
      "\u001b[0;31m\u001b[0m",
      "\u001b[0;31mTypeError\u001b[0mTraceback (most recent call last)",
      "\u001b[0;32m<ipython-input-50-68e9d331adfd>\u001b[0m in \u001b[0;36m<module>\u001b[0;34m()\u001b[0m\n\u001b[0;32m----> 1\u001b[0;31m \u001b[0mget_fundamentals\u001b[0m\u001b[0;34m(\u001b[0m\u001b[0;34m)\u001b[0m\u001b[0;34m\u001b[0m\u001b[0m\n\u001b[0m",
      "\u001b[0;31mTypeError\u001b[0m: get_fundamentals() takes at least 2 arguments (0 given)"
     ]
    }
   ],
   "source": [
    "get_fundamentals()"
   ]
  }
 ],
 "metadata": {
  "kernelspec": {
   "display_name": "Python 3",
   "language": "python",
   "name": "python3"
  },
  "language_info": {
   "codemirror_mode": {
    "name": "ipython",
    "version": 3
   },
   "file_extension": ".py",
   "mimetype": "text/x-python",
   "name": "python",
   "nbconvert_exporter": "python",
   "pygments_lexer": "ipython3",
   "version": "3.6.4"
  }
 },
 "nbformat": 4,
 "nbformat_minor": 2
}
